{
  "nbformat": 4,
  "nbformat_minor": 0,
  "metadata": {
    "colab": {
      "provenance": [],
      "authorship_tag": "ABX9TyO2LcebruwCwsBKh0izH14y",
      "include_colab_link": true
    },
    "kernelspec": {
      "name": "python3",
      "display_name": "Python 3"
    },
    "language_info": {
      "name": "python"
    }
  },
  "cells": [
    {
      "cell_type": "markdown",
      "metadata": {
        "id": "view-in-github",
        "colab_type": "text"
      },
      "source": [
        "<a href=\"https://colab.research.google.com/github/kadajariakshaya/Chatbot-in-python-using-Natural-Language-Processing/blob/main/Copy_of_Building_a_chatbot_.ipynb\" target=\"_parent\"><img src=\"https://colab.research.google.com/assets/colab-badge.svg\" alt=\"Open In Colab\"/></a>"
      ]
    },
    {
      "cell_type": "markdown",
      "source": [
        "Importing the required libraries"
      ],
      "metadata": {
        "id": "adI4gtgh_8oD"
      }
    },
    {
      "cell_type": "code",
      "execution_count": null,
      "metadata": {
        "id": "kPOirgPM_RGX"
      },
      "outputs": [],
      "source": [
        "import numpy as np\n",
        "import nltk\n",
        "import string\n",
        "import random"
      ]
    },
    {
      "cell_type": "markdown",
      "source": [
        "Importing and reading the corpus"
      ],
      "metadata": {
        "id": "4_Npmjto_wYi"
      }
    },
    {
      "cell_type": "code",
      "source": [
        "f=open('chatbot.txt','r',errors = 'ignore')\n",
        "raw_doc=f.read()\n",
        "raw_doc=raw_doc.lower()\n",
        "nltk.download('punkt')\n",
        "nltk.download('wordnet')\n",
        "sent_tokens = nltk.sent_tokenize(raw_doc)\n",
        "word_tokens = nltk.word_tokenize(raw_doc)\n"
      ],
      "metadata": {
        "colab": {
          "base_uri": "https://localhost:8080/"
        },
        "id": "souBF-SCAsQE",
        "outputId": "2e2948f7-8d35-407f-8fb7-1ae71b507f69"
      },
      "execution_count": null,
      "outputs": [
        {
          "output_type": "stream",
          "name": "stderr",
          "text": [
            "[nltk_data] Downloading package punkt to /root/nltk_data...\n",
            "[nltk_data]   Unzipping tokenizers/punkt.zip.\n",
            "[nltk_data] Downloading package wordnet to /root/nltk_data...\n"
          ]
        }
      ]
    },
    {
      "cell_type": "markdown",
      "source": [
        "Example of sentance tokens"
      ],
      "metadata": {
        "id": "sxTTVfcqHuCy"
      }
    },
    {
      "cell_type": "code",
      "source": [
        "sent_tokens[:3]"
      ],
      "metadata": {
        "colab": {
          "base_uri": "https://localhost:8080/"
        },
        "id": "kHfoeQ4rHfcs",
        "outputId": "e071bc9a-6fd9-4701-b4ac-9fc4f49e8962"
      },
      "execution_count": null,
      "outputs": [
        {
          "output_type": "execute_result",
          "data": {
            "text/plain": [
              "['human: hi there!', 'how are you today?', 'bot: hello!']"
            ]
          },
          "metadata": {},
          "execution_count": 17
        }
      ]
    },
    {
      "cell_type": "markdown",
      "source": [
        "Example of word tokens"
      ],
      "metadata": {
        "id": "xQ_jtk6ZH7rN"
      }
    },
    {
      "cell_type": "code",
      "source": [
        "word_tokens[:4]"
      ],
      "metadata": {
        "colab": {
          "base_uri": "https://localhost:8080/"
        },
        "id": "zPvAFMP1ICM6",
        "outputId": "362d12fc-d24c-4473-e6a5-bc1092296109"
      },
      "execution_count": null,
      "outputs": [
        {
          "output_type": "execute_result",
          "data": {
            "text/plain": [
              "['human', ':', 'hi', 'there']"
            ]
          },
          "metadata": {},
          "execution_count": 18
        }
      ]
    },
    {
      "cell_type": "markdown",
      "source": [
        "Text preprocessing"
      ],
      "metadata": {
        "id": "nOTeSOMWInGp"
      }
    },
    {
      "cell_type": "code",
      "source": [
        "lemmer = nltk.stem.WordNetLemmatizer()\n",
        "def LemTokens(tokens):\n",
        "    return [lemmer.lemmatize(token) for token in tokens]\n",
        "remove_punct_dict = dict((ord(punct), None) for punct in string.punctuation)\n",
        "def lemNormalize(text):\n",
        "    return LemTokens(nltk.word_tokenize(text.lower().translate(remove_punct_dict)))\n",
        "\n"
      ],
      "metadata": {
        "id": "AnsoHmlvIkbL"
      },
      "execution_count": null,
      "outputs": []
    },
    {
      "cell_type": "markdown",
      "source": [
        "Defining the greeting function\n"
      ],
      "metadata": {
        "id": "sdalBWRFKzLR"
      }
    },
    {
      "cell_type": "code",
      "source": [
        "GREET_INPUTS = (\"hello\", \"hi\", \"greetings\", \"sup\", \"what's up\", \"hey\",)\n",
        "GREET_RESPONSES = [\"hi\", \"hey\", \"nods\", \"hi there\", \"hello\", \"I am glad! you are talking to me\"]\n",
        "def greet(sentence):\n",
        "    for word in sentence.split():\n",
        "        if word.lower() in GREET_INPUTS:\n",
        "           return random.choice(GREET_RESPONSES)"
      ],
      "metadata": {
        "id": "z2gFzS15KyxU"
      },
      "execution_count": null,
      "outputs": []
    },
    {
      "cell_type": "markdown",
      "source": [
        "Response generation\n"
      ],
      "metadata": {
        "id": "pM0aKjHIMyBE"
      }
    },
    {
      "cell_type": "code",
      "source": [
        "from sklearn.feature_extraction.text import TfidfVectorizer\n",
        "from sklearn.metrics.pairwise import cosine_similarity"
      ],
      "metadata": {
        "id": "gHjvZ-zWM2nZ"
      },
      "execution_count": null,
      "outputs": []
    },
    {
      "cell_type": "code",
      "source": [
        "def response(user_response):\n",
        " robol_response=''\n",
        " TfidfVec = TfidfVectorizer(tokenizer=lemNormalize, stop_words='english')\n",
        " tfidf = TfidfVec.fit_transform(sent_tokens)\n",
        " vals = cosine_similarity(tfidf[-1], tfidf)\n",
        " idx=vals.argsort()[0][-2]\n",
        " flat = vals.flatten()\n",
        " flat.sort()\n",
        " req_tfidf = flat[-2]\n",
        " if(req_tfidf==0):\n",
        "  robol_response=robol_response+\"I am sorry! I dont understand you\"\n",
        "  return robol_response\n",
        " else:\n",
        "  robol_response = robol_response+sent_tokens[idx]\n",
        "  return robol_response\n",
        "\n",
        "\n"
      ],
      "metadata": {
        "id": "9H9mW7_3ODxh"
      },
      "execution_count": null,
      "outputs": []
    },
    {
      "cell_type": "markdown",
      "source": [
        "Defining Conversation start/end protocols"
      ],
      "metadata": {
        "id": "wN5cfeuyGwUD"
      }
    },
    {
      "cell_type": "code",
      "source": [
        "flag=True\n",
        "print(\"BOT: My name is Stark. Let's have a conservational Also, if you want to exit any time, just type Bye!\")\n",
        "while(flag==True):\n",
        "    user_response = input()\n",
        "    user_response=user_response.lower()\n",
        "    if(user_response!='bye'):\n",
        "        if(user_response=='thanks' or user_response=='thank you' ):\n",
        "            flag=False\n",
        "            print(\"BOT: You are welcome..\")\n",
        "        else:\n",
        "            if(greet(user_response)!=None):\n",
        "                print(\"BOT: \"+greet(user_response))\n",
        "            else:\n",
        "                sent_tokens.append(user_response)\n",
        "                word_tokens=word_tokens+nltk.word_tokenize(user_response)\n",
        "                final_words=list(set(word_tokens))\n",
        "                print(\"BOT: \",end=\"\")\n",
        "                print(response(user_response))\n",
        "                sent_tokens.remove(user_response)\n",
        "    else:\n",
        "        flag=False\n",
        "        print(\"BOT: Goodbye! Take care <3 \")\n"
      ],
      "metadata": {
        "colab": {
          "base_uri": "https://localhost:8080/"
        },
        "id": "8F0_T3Vp_yCf",
        "outputId": "450cd28d-a183-4f4a-c39f-4617bd2e2be0"
      },
      "execution_count": null,
      "outputs": [
        {
          "output_type": "stream",
          "name": "stdout",
          "text": [
            "BOT: My name is Stark. Let's have a conservational Also, if you want to exit any time, just type Bye!\n",
            "hi\n",
            "BOT: hi there\n",
            "hello\n",
            "BOT: I am glad! you are talking to me\n",
            "bye\n",
            "BOT: Goodbye! Take care <3 \n"
          ]
        }
      ]
    }
  ]
}